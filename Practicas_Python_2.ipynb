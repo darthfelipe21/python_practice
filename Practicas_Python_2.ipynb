{
  "nbformat": 4,
  "nbformat_minor": 0,
  "metadata": {
    "colab": {
      "provenance": [],
      "authorship_tag": "ABX9TyNhp+VvYRAxsbZGpN/ve1jt",
      "include_colab_link": true
    },
    "kernelspec": {
      "name": "python3",
      "display_name": "Python 3"
    },
    "language_info": {
      "name": "python"
    }
  },
  "cells": [
    {
      "cell_type": "markdown",
      "metadata": {
        "id": "view-in-github",
        "colab_type": "text"
      },
      "source": [
        "<a href=\"https://colab.research.google.com/github/darthfelipe21/python_practice/blob/main/Practicas_Python_2.ipynb\" target=\"_parent\"><img src=\"https://colab.research.google.com/assets/colab-badge.svg\" alt=\"Open In Colab\"/></a>"
      ]
    },
    {
      "cell_type": "markdown",
      "source": [
        "## Practicas Python"
      ],
      "metadata": {
        "id": "NkESyrBAGQpL"
      }
    },
    {
      "cell_type": "markdown",
      "source": [
        "#### - Counting ratios"
      ],
      "metadata": {
        "id": "XIsZEm0XG1Jk"
      }
    },
    {
      "cell_type": "code",
      "execution_count": null,
      "metadata": {
        "colab": {
          "base_uri": "https://localhost:8080/"
        },
        "id": "6Oeba_SfGNti",
        "outputId": "5353247d-fdeb-4d7d-a441-687c9a3ae1fc"
      },
      "outputs": [
        {
          "output_type": "stream",
          "name": "stdout",
          "text": [
            "0.500000\n",
            "0.333333\n",
            "0.166667\n"
          ]
        }
      ],
      "source": [
        "arr= [-5, 2, 6, -1, 0, 8]\n",
        "\n",
        "def plusMinus(arr):\n",
        "    x= len(arr)\n",
        "    positive_count = len([x for x in arr if x > 0])\n",
        "    negative_count = len([x for x in arr if x < 0])\n",
        "    zero_count = len([x for x in arr if x == 0])\n",
        "\n",
        "    print(\"{:.6f}\".format(positive_count / x))\n",
        "    print(\"{:.6f}\".format(negative_count / x))\n",
        "    print(\"{:.6f}\".format(zero_count / x))\n",
        "\n",
        "\n",
        "plusMinus(arr)"
      ]
    },
    {
      "cell_type": "markdown",
      "source": [
        "#### Priting min and max, excluing a number"
      ],
      "metadata": {
        "id": "5cwlvK-zQ7fz"
      }
    },
    {
      "cell_type": "code",
      "source": [
        "def miniMaxSum(arr):\n",
        "    x= []\n",
        "    for i in range(len(arr)):\n",
        "        a= arr[i]\n",
        "        b= sum(arr) - a\n",
        "        x.append(b)\n",
        "    print(min(x), max(x))\n",
        "\n",
        "miniMaxSum(arr)"
      ],
      "metadata": {
        "colab": {
          "base_uri": "https://localhost:8080/"
        },
        "id": "bbBtHdZbHKbL",
        "outputId": "8a71efff-8383-4939-d595-a4b8f0cac7fb"
      },
      "execution_count": null,
      "outputs": [
        {
          "output_type": "stream",
          "name": "stdout",
          "text": [
            "2 15\n"
          ]
        }
      ]
    },
    {
      "cell_type": "markdown",
      "source": [
        "#### Military time"
      ],
      "metadata": {
        "id": "V7UlviCVfhPJ"
      }
    },
    {
      "cell_type": "code",
      "source": [
        "s='07:05:45PM'\n",
        "\n",
        "def timeConversion(s):\n",
        "    hours, minutes, seconds_meridian = s[:-2].split(':')\n",
        "    meridian = s[-2:]\n",
        "\n",
        "    if meridian == 'PM' and hours != '12':\n",
        "        hours = str(int(hours) + 12)\n",
        "    elif meridian == 'AM' and hours == '12':\n",
        "        hours = '00'\n",
        "\n",
        "    military_time = f\"{hours:02}:{minutes:02}:{seconds_meridian:02}\"\n",
        "    return military_time\n",
        "\n",
        "timeConversion(s)"
      ],
      "metadata": {
        "colab": {
          "base_uri": "https://localhost:8080/",
          "height": 35
        },
        "id": "THklMWJbXRWQ",
        "outputId": "4d50e38b-9481-4803-8fae-5bc91e80d869"
      },
      "execution_count": null,
      "outputs": [
        {
          "output_type": "execute_result",
          "data": {
            "text/plain": [
              "'19:05:45'"
            ],
            "application/vnd.google.colaboratory.intrinsic+json": {
              "type": "string"
            }
          },
          "metadata": {},
          "execution_count": 27
        }
      ]
    },
    {
      "cell_type": "code",
      "source": [
        "def fizzBuzz(n):\n",
        "    for i in range(1,n +1):\n",
        "        if i % 3 == 0 and  i % 5 == 0:\n",
        "            print('FizzBuzz')\n",
        "        elif i % 5 == 0:\n",
        "            print('Fizz')\n",
        "        elif i % 3 == 0:\n",
        "            print('Buzz')\n",
        "        else:\n",
        "            print(i)\n",
        "\n",
        "fizzBuzz(15)"
      ],
      "metadata": {
        "colab": {
          "base_uri": "https://localhost:8080/"
        },
        "id": "8dRiC2-_6j7Y",
        "outputId": "9ae14aa3-f946-4806-9552-d13046a8507e"
      },
      "execution_count": null,
      "outputs": [
        {
          "output_type": "stream",
          "name": "stdout",
          "text": [
            "1\n",
            "2\n",
            "Buzz\n",
            "4\n",
            "Fizz\n",
            "Buzz\n",
            "7\n",
            "8\n",
            "Buzz\n",
            "Fizz\n",
            "11\n",
            "Buzz\n",
            "13\n",
            "14\n",
            "FizzBuzz\n"
          ]
        }
      ]
    },
    {
      "cell_type": "code",
      "source": [
        "import math\n",
        "def findMedian(ar):\n",
        "    x= math.floor(len(ar)/2)\n",
        "    ar.sort()\n",
        "    print(ar[x])\n",
        "\n",
        "findMedian(ar)"
      ],
      "metadata": {
        "colab": {
          "base_uri": "https://localhost:8080/"
        },
        "id": "_Kpc2K_i9Atj",
        "outputId": "3d1a7004-4667-4dd9-cb83-a254d0b47bcf"
      },
      "execution_count": null,
      "outputs": [
        {
          "output_type": "stream",
          "name": "stdout",
          "text": [
            "5\n"
          ]
        }
      ]
    },
    {
      "cell_type": "code",
      "source": [
        "arr= [0, 1, 2, 4, 6, 5, 3]\n",
        "n= 7\n",
        "def findMedian(arr):\n",
        "    arr.sort()\n",
        "    if n % 2 == 0:\n",
        "        median = (arr[n//2 - 1] + arr[n//2]) / 2\n",
        "    else:\n",
        "        median = arr[n//2]\n",
        "    print(median)\n",
        "\n",
        "findMedian(arr)"
      ],
      "metadata": {
        "colab": {
          "base_uri": "https://localhost:8080/"
        },
        "id": "dIpI6U6ABzHn",
        "outputId": "0ad41400-67a9-45a0-d74f-103aeccf7ff2"
      },
      "execution_count": null,
      "outputs": [
        {
          "output_type": "stream",
          "name": "stdout",
          "text": [
            "3\n"
          ]
        }
      ]
    },
    {
      "cell_type": "markdown",
      "source": [
        "### bitwise\n",
        "En este código, se utiliza el operador XOR (^) para encontrar el número que aparece una sola vez en el array. El XOR de un número consigo mismo es 0, por lo que cuando XOR se aplica a todos los números en el array, los números que aparecen dos veces se cancelarán entre sí y solo quedará el número que aparece una sola vez. La función devuelve ese número."
      ],
      "metadata": {
        "id": "epgPLoMf5oIK"
      }
    },
    {
      "cell_type": "code",
      "source": [
        "def lonelyinteger(a):\n",
        "    result = 0\n",
        "    for num in a:\n",
        "        result ^= num\n",
        "    return result\n",
        "\n",
        "a = [1, 2, 3, 4, 3, 2, 1]\n",
        "unique_number = lonelyinteger(a)\n",
        "print(\"El número que aparece una sola vez es:\", unique_number)"
      ],
      "metadata": {
        "colab": {
          "base_uri": "https://localhost:8080/"
        },
        "id": "nZ5jKQZJnKsm",
        "outputId": "06933854-7121-449f-be40-0846893bbe3d"
      },
      "execution_count": 19,
      "outputs": [
        {
          "output_type": "stream",
          "name": "stdout",
          "text": [
            "El número que aparece una sola vez es: 4\n"
          ]
        }
      ]
    },
    {
      "cell_type": "markdown",
      "source": [
        "### Suma Diagonal"
      ],
      "metadata": {
        "id": "ElR9uvBQGSa0"
      }
    },
    {
      "cell_type": "code",
      "source": [
        "def diagonalDifference(arr):\n",
        "    left_diagonal_sum = 0\n",
        "    right_diagonal_sum = 0\n",
        "    n = len(arr)\n",
        "\n",
        "    for i in range(n):\n",
        "        left_diagonal_sum += arr[i][i]\n",
        "\n",
        "    for i in range(n):\n",
        "        right_diagonal_sum += arr[i][n - 1 - i]\n",
        "\n",
        "    absolute_difference = abs(left_diagonal_sum - right_diagonal_sum)\n",
        "\n",
        "    return absolute_difference\n",
        "\n",
        "input_matrix = [\n",
        "    [11, 2, 4],\n",
        "    [4, 5, 6],\n",
        "    [10, 8, -12]\n",
        "]\n",
        "\n",
        "result = diagonalDifference(input_matrix)\n",
        "print(\"Absolute diagonal difference:\", result)\n"
      ],
      "metadata": {
        "colab": {
          "base_uri": "https://localhost:8080/"
        },
        "id": "g6GvwFu6GETv",
        "outputId": "96e63837-0c95-4ae5-c713-6357dc11cf94"
      },
      "execution_count": 20,
      "outputs": [
        {
          "output_type": "stream",
          "name": "stdout",
          "text": [
            "Absolute diagonal difference: 15\n"
          ]
        }
      ]
    }
  ]
}