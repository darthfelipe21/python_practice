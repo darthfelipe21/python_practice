{
  "nbformat": 4,
  "nbformat_minor": 0,
  "metadata": {
    "colab": {
      "provenance": [],
      "authorship_tag": "ABX9TyNCTwCjC9i4ShobHPPQ9T0U",
      "include_colab_link": true
    },
    "kernelspec": {
      "name": "python3",
      "display_name": "Python 3"
    },
    "language_info": {
      "name": "python"
    }
  },
  "cells": [
    {
      "cell_type": "markdown",
      "metadata": {
        "id": "view-in-github",
        "colab_type": "text"
      },
      "source": [
        "<a href=\"https://colab.research.google.com/github/darthfelipe21/python_practice/blob/main/Practicas_Python_2.ipynb\" target=\"_parent\"><img src=\"https://colab.research.google.com/assets/colab-badge.svg\" alt=\"Open In Colab\"/></a>"
      ]
    },
    {
      "cell_type": "markdown",
      "source": [
        "## Practicas Python"
      ],
      "metadata": {
        "id": "NkESyrBAGQpL"
      }
    },
    {
      "cell_type": "markdown",
      "source": [
        "#### - Counting ratios"
      ],
      "metadata": {
        "id": "XIsZEm0XG1Jk"
      }
    },
    {
      "cell_type": "code",
      "execution_count": null,
      "metadata": {
        "colab": {
          "base_uri": "https://localhost:8080/"
        },
        "id": "6Oeba_SfGNti",
        "outputId": "5353247d-fdeb-4d7d-a441-687c9a3ae1fc"
      },
      "outputs": [
        {
          "output_type": "stream",
          "name": "stdout",
          "text": [
            "0.500000\n",
            "0.333333\n",
            "0.166667\n"
          ]
        }
      ],
      "source": [
        "arr= [-5, 2, 6, -1, 0, 8]\n",
        "\n",
        "def plusMinus(arr):\n",
        "    x= len(arr)\n",
        "    positive_count = len([x for x in arr if x > 0])\n",
        "    negative_count = len([x for x in arr if x < 0])\n",
        "    zero_count = len([x for x in arr if x == 0])\n",
        "\n",
        "    print(\"{:.6f}\".format(positive_count / x))\n",
        "    print(\"{:.6f}\".format(negative_count / x))\n",
        "    print(\"{:.6f}\".format(zero_count / x))\n",
        "\n",
        "\n",
        "plusMinus(arr)"
      ]
    },
    {
      "cell_type": "markdown",
      "source": [
        "#### Priting min and max, excluing a number"
      ],
      "metadata": {
        "id": "5cwlvK-zQ7fz"
      }
    },
    {
      "cell_type": "code",
      "source": [
        "def miniMaxSum(arr):\n",
        "    x= []\n",
        "    for i in range(len(arr)):\n",
        "        a= arr[i]\n",
        "        b= sum(arr) - a\n",
        "        x.append(b)\n",
        "    print(min(x), max(x))\n",
        "\n",
        "miniMaxSum(arr)"
      ],
      "metadata": {
        "colab": {
          "base_uri": "https://localhost:8080/"
        },
        "id": "bbBtHdZbHKbL",
        "outputId": "8a71efff-8383-4939-d595-a4b8f0cac7fb"
      },
      "execution_count": null,
      "outputs": [
        {
          "output_type": "stream",
          "name": "stdout",
          "text": [
            "2 15\n"
          ]
        }
      ]
    },
    {
      "cell_type": "markdown",
      "source": [
        "#### Military time"
      ],
      "metadata": {
        "id": "V7UlviCVfhPJ"
      }
    },
    {
      "cell_type": "code",
      "source": [
        "s='07:05:45PM'\n",
        "\n",
        "def timeConversion(s):\n",
        "    hours, minutes, seconds_meridian = s[:-2].split(':')\n",
        "    meridian = s[-2:]\n",
        "\n",
        "    if meridian == 'PM' and hours != '12':\n",
        "        hours = str(int(hours) + 12)\n",
        "    elif meridian == 'AM' and hours == '12':\n",
        "        hours = '00'\n",
        "\n",
        "    military_time = f\"{hours:02}:{minutes:02}:{seconds_meridian:02}\"\n",
        "    return military_time\n",
        "\n",
        "timeConversion(s)"
      ],
      "metadata": {
        "colab": {
          "base_uri": "https://localhost:8080/",
          "height": 35
        },
        "id": "THklMWJbXRWQ",
        "outputId": "4d50e38b-9481-4803-8fae-5bc91e80d869"
      },
      "execution_count": null,
      "outputs": [
        {
          "output_type": "execute_result",
          "data": {
            "text/plain": [
              "'19:05:45'"
            ],
            "application/vnd.google.colaboratory.intrinsic+json": {
              "type": "string"
            }
          },
          "metadata": {},
          "execution_count": 27
        }
      ]
    },
    {
      "cell_type": "code",
      "source": [
        "def fizzBuzz(n):\n",
        "    for i in range(1,n +1):\n",
        "        if i % 3 == 0 and  i % 5 == 0:\n",
        "            print('FizzBuzz')\n",
        "        elif i % 5 == 0:\n",
        "            print('Fizz')\n",
        "        elif i % 3 == 0:\n",
        "            print('Buzz')\n",
        "        else:\n",
        "            print(i)\n",
        "\n",
        "fizzBuzz(15)"
      ],
      "metadata": {
        "colab": {
          "base_uri": "https://localhost:8080/"
        },
        "id": "8dRiC2-_6j7Y",
        "outputId": "9ae14aa3-f946-4806-9552-d13046a8507e"
      },
      "execution_count": null,
      "outputs": [
        {
          "output_type": "stream",
          "name": "stdout",
          "text": [
            "1\n",
            "2\n",
            "Buzz\n",
            "4\n",
            "Fizz\n",
            "Buzz\n",
            "7\n",
            "8\n",
            "Buzz\n",
            "Fizz\n",
            "11\n",
            "Buzz\n",
            "13\n",
            "14\n",
            "FizzBuzz\n"
          ]
        }
      ]
    },
    {
      "cell_type": "code",
      "source": [
        "import math\n",
        "def findMedian(ar):\n",
        "    x= math.floor(len(ar)/2)\n",
        "    ar.sort()\n",
        "    print(ar[x])\n",
        "\n",
        "findMedian(ar)"
      ],
      "metadata": {
        "colab": {
          "base_uri": "https://localhost:8080/"
        },
        "id": "_Kpc2K_i9Atj",
        "outputId": "3d1a7004-4667-4dd9-cb83-a254d0b47bcf"
      },
      "execution_count": null,
      "outputs": [
        {
          "output_type": "stream",
          "name": "stdout",
          "text": [
            "5\n"
          ]
        }
      ]
    },
    {
      "cell_type": "code",
      "source": [
        "arr= [0, 1, 2, 4, 6, 5, 3]\n",
        "n= 7\n",
        "def findMedian(arr):\n",
        "    arr.sort()\n",
        "    if n % 2 == 0:\n",
        "        median = (arr[n//2 - 1] + arr[n//2]) / 2\n",
        "    else:\n",
        "        median = arr[n//2]\n",
        "    print(median)\n",
        "\n",
        "findMedian(arr)"
      ],
      "metadata": {
        "colab": {
          "base_uri": "https://localhost:8080/"
        },
        "id": "dIpI6U6ABzHn",
        "outputId": "0ad41400-67a9-45a0-d74f-103aeccf7ff2"
      },
      "execution_count": null,
      "outputs": [
        {
          "output_type": "stream",
          "name": "stdout",
          "text": [
            "3\n"
          ]
        }
      ]
    },
    {
      "cell_type": "markdown",
      "source": [
        "### bitwise\n",
        "En este código, se utiliza el operador XOR (^) para encontrar el número que aparece una sola vez en el array. El XOR de un número consigo mismo es 0, por lo que cuando XOR se aplica a todos los números en el array, los números que aparecen dos veces se cancelarán entre sí y solo quedará el número que aparece una sola vez. La función devuelve ese número."
      ],
      "metadata": {
        "id": "epgPLoMf5oIK"
      }
    },
    {
      "cell_type": "code",
      "source": [
        "def lonelyinteger(a):\n",
        "    result = 0\n",
        "    for num in a:\n",
        "        result ^= num\n",
        "    return result\n",
        "\n",
        "a = [1, 2, 3, 4, 3, 2, 1]\n",
        "unique_number = lonelyinteger(a)\n",
        "print(\"El número que aparece una sola vez es:\", unique_number)"
      ],
      "metadata": {
        "colab": {
          "base_uri": "https://localhost:8080/"
        },
        "id": "nZ5jKQZJnKsm",
        "outputId": "06933854-7121-449f-be40-0846893bbe3d"
      },
      "execution_count": null,
      "outputs": [
        {
          "output_type": "stream",
          "name": "stdout",
          "text": [
            "El número que aparece una sola vez es: 4\n"
          ]
        }
      ]
    },
    {
      "cell_type": "markdown",
      "source": [
        "### Suma Diagonal"
      ],
      "metadata": {
        "id": "ElR9uvBQGSa0"
      }
    },
    {
      "cell_type": "code",
      "source": [
        "def diagonalDifference(arr):\n",
        "    left_diagonal_sum = 0\n",
        "    right_diagonal_sum = 0\n",
        "    n = len(arr)\n",
        "\n",
        "    for i in range(n):\n",
        "        left_diagonal_sum += arr[i][i]\n",
        "\n",
        "    for i in range(n):\n",
        "        right_diagonal_sum += arr[i][n - 1 - i]\n",
        "\n",
        "    absolute_difference = abs(left_diagonal_sum - right_diagonal_sum)\n",
        "\n",
        "    return absolute_difference\n",
        "\n",
        "input_matrix = [\n",
        "    [11, 2, 4],\n",
        "    [4, 5, 6],\n",
        "    [10, 8, -12]\n",
        "]\n",
        "\n",
        "result = diagonalDifference(input_matrix)\n",
        "print(\"Absolute diagonal difference:\", result)\n"
      ],
      "metadata": {
        "colab": {
          "base_uri": "https://localhost:8080/"
        },
        "id": "g6GvwFu6GETv",
        "outputId": "96e63837-0c95-4ae5-c713-6357dc11cf94"
      },
      "execution_count": null,
      "outputs": [
        {
          "output_type": "stream",
          "name": "stdout",
          "text": [
            "Absolute diagonal difference: 15\n"
          ]
        }
      ]
    },
    {
      "cell_type": "markdown",
      "source": [
        "### Conteo de repeticiones en un array"
      ],
      "metadata": {
        "id": "3IupnkVcF2i4"
      }
    },
    {
      "cell_type": "code",
      "source": [
        "arrCount= [63, 54, 17, 78, 43, 70, 32, 97, 16, 94, 74, 18, 60, 61, 35, 83, 13, 56,\n",
        "      75, 52, 70, 12, 24, 37, 17, 0, 16, 64, 34, 81, 82, 24, 69, 2, 30, 61, 83,\n",
        "      37, 97, 16, 70, 53, 0, 61, 12, 17, 97, 67, 33, 30, 49, 70, 11, 40, 67, 94,\n",
        "      84, 60, 35, 58, 19, 81, 16, 14, 68, 46, 42, 81, 75, 87, 13, 84, 33, 34,\n",
        "      14, 96, 7, 59, 17, 98, 79, 47, 71, 75, 8, 27, 73, 66, 64, 12, 29, 35, 80,\n",
        "      78, 80, 6, 5, 24, 49, 82]\n",
        "\n",
        "def countingSort(arr, number):\n",
        "    # Initialize the frequency array with zeros\n",
        "    freq_arr = [0] * number\n",
        "\n",
        "    # Count the occurrences of each number in the input array\n",
        "    for num in arr:\n",
        "        freq_arr[num] += 1\n",
        "\n",
        "    return freq_arr\n",
        "\n",
        "number= 100\n",
        "\n",
        "z=countingSort(arrCount,number)\n",
        "print(z)"
      ],
      "metadata": {
        "colab": {
          "base_uri": "https://localhost:8080/"
        },
        "id": "wp97x10nE0gb",
        "outputId": "34031b9a-ff81-4a61-d3a7-c2fe992e4e4c"
      },
      "execution_count": 107,
      "outputs": [
        {
          "output_type": "stream",
          "name": "stdout",
          "text": [
            "[2, 0, 1, 0, 0, 1, 1, 1, 1, 0, 0, 1, 3, 2, 2, 0, 4, 4, 1, 1, 0, 0, 0, 0, 3, 0, 0, 1, 0, 1, 2, 0, 1, 2, 2, 3, 0, 2, 0, 0, 1, 0, 1, 1, 0, 0, 1, 1, 0, 2, 0, 0, 1, 1, 1, 0, 1, 0, 1, 1, 2, 3, 0, 1, 2, 0, 1, 2, 1, 1, 4, 1, 0, 1, 1, 3, 0, 0, 2, 1, 2, 3, 2, 2, 2, 0, 0, 1, 0, 0, 0, 0, 0, 0, 2, 0, 1, 3, 1, 0]\n"
          ]
        }
      ]
    },
    {
      "cell_type": "code",
      "source": [
        "print(range(len(list(set(arrCount)))))"
      ],
      "metadata": {
        "colab": {
          "base_uri": "https://localhost:8080/"
        },
        "id": "4llBbDeIkTBu",
        "outputId": "a6b589c1-0bba-4031-e735-71fd397268cd"
      },
      "execution_count": 65,
      "outputs": [
        {
          "output_type": "stream",
          "name": "stdout",
          "text": [
            "range(0, 24)\n"
          ]
        }
      ]
    }
  ]
}