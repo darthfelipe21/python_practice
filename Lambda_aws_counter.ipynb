{
  "nbformat": 4,
  "nbformat_minor": 0,
  "metadata": {
    "colab": {
      "provenance": [],
      "authorship_tag": "ABX9TyOV5JOBpAdtVXxr+4p4gNIU",
      "include_colab_link": true
    },
    "kernelspec": {
      "name": "python3",
      "display_name": "Python 3"
    },
    "language_info": {
      "name": "python"
    }
  },
  "cells": [
    {
      "cell_type": "markdown",
      "metadata": {
        "id": "view-in-github",
        "colab_type": "text"
      },
      "source": [
        "<a href=\"https://colab.research.google.com/github/darthfelipe21/python_practice/blob/main/Lambda_aws_counter.ipynb\" target=\"_parent\"><img src=\"https://colab.research.google.com/assets/colab-badge.svg\" alt=\"Open In Colab\"/></a>"
      ]
    },
    {
      "cell_type": "code",
      "execution_count": null,
      "metadata": {
        "id": "ujBx_T5C-7Sa"
      },
      "outputs": [],
      "source": [
        "import boto3\n",
        "import datetime\n",
        "import pytz\n",
        "import pymysql\n",
        "\n",
        "# Configuración de la conexión\n",
        "def get_db_connection():\n",
        "    return pymysql.connect(host='tu-host',\n",
        "                           user='tu-usuario',\n",
        "                           password='tu-contraseña',\n",
        "                           database='tu-base-de-datos')\n",
        "\n",
        "# Función Lambda para contar clientes nuevos por día\n",
        "def lambda_handler(event, context):\n",
        "    # Obtener la hora actual \n",
        "    current_time = datetime.datetime.now(pytz.timezone('America/Santiago'))\n",
        "\n",
        "    # Activar a medianoche local\n",
        "    if current_time.hour == 0 and current_time.minute == 0:\n",
        "        # Conecta a la base de datos\n",
        "        connection = get_db_connection()\n",
        "\n",
        "        # Fecha de ayer \n",
        "        yesterday = current_time - datetime.timedelta(days=1)\n",
        "        yesterday_date = yesterday.strftime('%Y-%m-%d')\n",
        "\n",
        "        # Consulta SQL \n",
        "        query = f\"SELECT COUNT(*), nombre, correo_electronico FROM clientes WHERE fecha_registro >= '{yesterday_date} 00:00:00' AND fecha_registro <= '{yesterday_date} 23:59:59'\"\n",
        "\n",
        "        # Ejecutar la consulta y obtener resultado\n",
        "        with connection.cursor() as cursor:\n",
        "            cursor.execute(query)\n",
        "            result = cursor.fetchall()\n",
        "            new_customers_count = result[0][0]\n",
        "            new_customers = [\n",
        "                {\n",
        "                    'nombre': customer[1],\n",
        "                    'correo_electronico': customer[2]\n",
        "                } for customer in result\n",
        "            ]\n",
        "\n",
        "        # Cerrar la conexión a la base de datos\n",
        "        connection.close()\n",
        "\n",
        "        # Resultado\n",
        "        return {\n",
        "            'statusCode': 200,\n",
        "            'body': f'Se encontraron {new_customers_count} clientes nuevos el {yesterday_date}.'\n",
        "            'new_customers': new_customers\n",
        "        }\n",
        "    else:\n",
        "        # Si no es medianoche\n",
        "        return {\n",
        "            'statusCode': 200,\n",
        "            'body': 'La función se ejecuta a medianoche.'\n",
        "        }\n"
      ]
    }
  ]
}
