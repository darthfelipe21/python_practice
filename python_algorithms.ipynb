{
  "cells": [
    {
      "cell_type": "markdown",
      "metadata": {
        "id": "view-in-github",
        "colab_type": "text"
      },
      "source": [
        "<a href=\"https://colab.research.google.com/github/darthfelipe21/python_practice/blob/main/python_algorithms.ipynb\" target=\"_parent\"><img src=\"https://colab.research.google.com/assets/colab-badge.svg\" alt=\"Open In Colab\"/></a>"
      ]
    },
    {
      "cell_type": "code",
      "execution_count": null,
      "metadata": {
        "colab": {
          "base_uri": "https://localhost:8080/"
        },
        "id": "oQnE5N_hPZJn",
        "outputId": "fe8f875a-eb28-41e8-936c-4d0977572a9d"
      },
      "outputs": [
        {
          "name": "stdout",
          "output_type": "stream",
          "text": [
            "¡Guau, guau!\n",
            "None\n"
          ]
        }
      ],
      "source": [
        "class Perro:\n",
        "    def __init__(self, nombre, edad, raza):\n",
        "        self.nombre = nombre\n",
        "        self.edad = edad\n",
        "        self.raza = raza\n",
        "    \n",
        "    def ladrar(self):\n",
        "        print(\"¡Guau, guau!\")\n",
        "    \n",
        "    def correr(self):\n",
        "        print(\"El perro está corriendo\")\n",
        "\n",
        "mi_perro = Perro(\"Fido\", 3, \"Pastor alemán\")\n",
        "print(mi_perro.ladrar())"
      ]
    },
    {
      "cell_type": "code",
      "execution_count": null,
      "metadata": {
        "colab": {
          "base_uri": "https://localhost:8080/"
        },
        "id": "a5BvQYMnUofw",
        "outputId": "cde12227-3052-45f1-d6dd-00cd86680006"
      },
      "outputs": [
        {
          "data": {
            "text/plain": [
              "25"
            ]
          },
          "execution_count": 14,
          "metadata": {},
          "output_type": "execute_result"
        }
      ],
      "source": [
        "class Persona:\n",
        "    def __init__(self, nombre, edad, sexo):\n",
        "        self.nombre = nombre\n",
        "        self.edad = edad\n",
        "        self.sexo = sexo\n",
        "\n",
        "persona1 = Persona(\"Ana\", 25, \"Femenino\")\n",
        "persona2 = Persona(\"Juan\", 30, \"Masculino\")\n",
        "persona3 = Persona(\"María\", 28, \"Femenino\")\n",
        "\n",
        "persona1.nombre='Sofia'\n",
        "\n",
        "persona1.edad"
      ]
    },
    {
      "cell_type": "code",
      "execution_count": null,
      "metadata": {
        "colab": {
          "base_uri": "https://localhost:8080/"
        },
        "id": "zgrVxI6bgdup",
        "outputId": "ff3f85d6-3718-4192-c11a-926d9c7796dd"
      },
      "outputs": [
        {
          "name": "stdout",
          "output_type": "stream",
          "text": [
            "[11, 12, 22, 25, 34, 64, 90]\n"
          ]
        }
      ],
      "source": [
        "def bubble_sort(lista):\n",
        "    n = len(lista)   # 7\n",
        "    for i in range(n): #[0,1,2,3,4,5]\n",
        "        for j in range(0, n-i-1):  # [0,1,2,3,4]\n",
        "            if lista[j] > lista[j+1]:\n",
        "                lista[j], lista[j+1] = lista[j+1], lista[j]\n",
        "    return lista\n",
        "\n",
        "lista = [64, 34, 25, 12, 22, 11, 90]\n",
        "resultado = bubble_sort(lista)\n",
        "print(resultado)"
      ]
    },
    {
      "cell_type": "code",
      "execution_count": null,
      "metadata": {
        "colab": {
          "base_uri": "https://localhost:8080/"
        },
        "id": "lJ7Ikp9Vgwrm",
        "outputId": "9b3cf544-0a97-419f-8c45-391b7dc4789c"
      },
      "outputs": [
        {
          "name": "stdout",
          "output_type": "stream",
          "text": [
            "7\n"
          ]
        }
      ],
      "source": [
        "def bubble_sort(lista):\n",
        "    n = len(lista)   # 1,2,3,4,5,6,7\n",
        "    return n\n",
        "\n",
        "lista = [64, 34, 25, 12, 22, 11, 90]\n",
        "resultado = bubble_sort(lista)\n",
        "print(resultado)"
      ]
    },
    {
      "cell_type": "code",
      "execution_count": null,
      "metadata": {
        "colab": {
          "base_uri": "https://localhost:8080/"
        },
        "id": "qE-k1lmGh2jM",
        "outputId": "788fb901-da66-47f2-d9d2-d75e22160cbb"
      },
      "outputs": [
        {
          "name": "stdout",
          "output_type": "stream",
          "text": [
            "0\n",
            "1\n",
            "2\n",
            "3\n",
            "4\n",
            "5\n",
            "0\n",
            "1\n",
            "2\n",
            "3\n",
            "4\n",
            "0\n",
            "1\n",
            "2\n",
            "3\n",
            "0\n",
            "1\n",
            "2\n",
            "0\n",
            "1\n",
            "0\n"
          ]
        }
      ],
      "source": [
        "for i in range(7):\n",
        "  for j in range(0, 7-i-1):\n",
        "    print(j)"
      ]
    },
    {
      "cell_type": "code",
      "execution_count": null,
      "metadata": {
        "colab": {
          "base_uri": "https://localhost:8080/"
        },
        "id": "YtAKqSGclGBB",
        "outputId": "3f107c7e-8d62-44a4-d5c4-3ed663e4b8ac"
      },
      "outputs": [
        {
          "data": {
            "text/plain": [
              "[11, 12, 22, 25, 34, 64, 90]"
            ]
          },
          "execution_count": 24,
          "metadata": {},
          "output_type": "execute_result"
        }
      ],
      "source": [
        "lista.sort()\n",
        "lista"
      ]
    },
    {
      "cell_type": "code",
      "execution_count": null,
      "metadata": {
        "colab": {
          "base_uri": "https://localhost:8080/"
        },
        "id": "l8nYZn89l7gu",
        "outputId": "1cc96ec7-7b06-4295-ede6-fed3219de01c"
      },
      "outputs": [
        {
          "name": "stdout",
          "output_type": "stream",
          "text": [
            "[1, 0, 0, 1, 0, 0, 0]\n"
          ]
        }
      ],
      "source": [
        "binario = []\n",
        "\n",
        "def binary(x):\n",
        "  for i in x:\n",
        "    if i%2 == 0:\n",
        "      binario.append(0)\n",
        "    else:\n",
        "      binario.append(1)\n",
        "\n",
        "binary(lista)\n",
        "\n",
        "print(binario)"
      ]
    },
    {
      "cell_type": "code",
      "execution_count": null,
      "metadata": {
        "colab": {
          "base_uri": "https://localhost:8080/"
        },
        "id": "V7h9beS8n3FG",
        "outputId": "4a8bafc0-e380-44d4-d17a-0ba3ed0dbc95"
      },
      "outputs": [
        {
          "name": "stdout",
          "output_type": "stream",
          "text": [
            "El elemento 90 está en el índice 6\n",
            "[11, 12, 22, 25, 34, 64, 90]\n"
          ]
        }
      ],
      "source": [
        "def binary_search(lista, elemento):\n",
        "    bajo = 0\n",
        "    alto = len(lista) - 1  #6\n",
        "    while bajo <= alto:\n",
        "        medio = (bajo + alto) // 2   # 3 \n",
        "        if lista[medio] == elemento:\n",
        "            return medio\n",
        "        elif lista[medio] < elemento:\n",
        "            bajo = medio + 1\n",
        "        else:\n",
        "            alto = medio - 1\n",
        "    return -1\n",
        "elemento = 90\n",
        "resultado = binary_search(lista, elemento)\n",
        "if resultado != -1:\n",
        "    print(f\"El elemento {elemento} está en el índice {resultado}\")\n",
        "else:\n",
        "    print(f\"El elemento {elemento} no está en la lista\")\n",
        "print(lista)"
      ]
    },
    {
      "cell_type": "code",
      "execution_count": null,
      "metadata": {
        "colab": {
          "base_uri": "https://localhost:8080/"
        },
        "id": "VfZ_KPYnoyot",
        "outputId": "8112b0aa-bfef-4013-989e-8ba51307eafd"
      },
      "outputs": [
        {
          "name": "stdout",
          "output_type": "stream",
          "text": [
            "el numero 25 esta en la lista\n"
          ]
        }
      ],
      "source": [
        "def buscar(x,y):\n",
        "  for i in x:\n",
        "    if i == y:\n",
        "      print(f'el numero {y} esta en la lista')\n",
        "\n",
        "z= buscar(lista, 25)\n",
        "z"
      ]
    },
    {
      "cell_type": "code",
      "execution_count": null,
      "metadata": {
        "colab": {
          "base_uri": "https://localhost:8080/"
        },
        "id": "kfEHdD6zrvWW",
        "outputId": "7dc26592-6df2-48ea-9e1b-70009e21d400"
      },
      "outputs": [
        {
          "data": {
            "text/plain": [
              "4"
            ]
          },
          "execution_count": 44,
          "metadata": {},
          "output_type": "execute_result"
        }
      ],
      "source": [
        "9//2"
      ]
    },
    {
      "cell_type": "code",
      "execution_count": null,
      "metadata": {
        "colab": {
          "base_uri": "https://localhost:8080/"
        },
        "id": "zZWr9W621SNs",
        "outputId": "9c08a420-c137-46cb-c8a1-6618171f1d0b"
      },
      "outputs": [
        {
          "data": {
            "text/plain": [
              "22"
            ]
          },
          "execution_count": 54,
          "metadata": {},
          "output_type": "execute_result"
        }
      ],
      "source": [
        "def iterador(x):\n",
        "  for i in x:\n",
        "    return x[2] \n",
        "\n",
        "iterador(lista)\n",
        "\n"
      ]
    },
    {
      "cell_type": "code",
      "execution_count": null,
      "metadata": {
        "colab": {
          "base_uri": "https://localhost:8080/"
        },
        "id": "OmAgeM0I2uF0",
        "outputId": "54098602-4c28-4f44-8be7-160e88621443"
      },
      "outputs": [
        {
          "name": "stdout",
          "output_type": "stream",
          "text": [
            "20\n"
          ]
        }
      ],
      "source": [
        "class rectangulo:\n",
        "  def __init__(self, ancho, altura):\n",
        "    self.ancho = ancho\n",
        "    self.altura = altura\n",
        "\n",
        "rec1 = rectangulo(20, 30)\n",
        "\n",
        "print(rec1.ancho)"
      ]
    },
    {
      "cell_type": "code",
      "execution_count": null,
      "metadata": {
        "colab": {
          "base_uri": "https://localhost:8080/"
        },
        "id": "6l5rEkMZA-B4",
        "outputId": "1fb44489-d998-4c37-daa3-897b6864f61d"
      },
      "outputs": [
        {
          "data": {
            "text/plain": [
              "[121, 144, 484, 625, 1156, 4096, 8100]"
            ]
          },
          "execution_count": 58,
          "metadata": {},
          "output_type": "execute_result"
        }
      ],
      "source": [
        "lista2= [x**2 for x in lista]\n",
        "lista2"
      ]
    },
    {
      "cell_type": "code",
      "execution_count": null,
      "metadata": {
        "colab": {
          "base_uri": "https://localhost:8080/"
        },
        "id": "V08kBpDOBxgy",
        "outputId": "4bf50496-6b1d-4f9a-bbee-571a6afe90bf"
      },
      "outputs": [
        {
          "data": {
            "text/plain": [
              "120"
            ]
          },
          "execution_count": 59,
          "metadata": {},
          "output_type": "execute_result"
        }
      ],
      "source": [
        "def factorial(n):\n",
        "    if n == 0:\n",
        "        return 1\n",
        "    else:\n",
        "        return n * factorial(n-1)\n",
        "\n",
        "factorial(5)"
      ]
    },
    {
      "cell_type": "code",
      "execution_count": null,
      "metadata": {
        "colab": {
          "base_uri": "https://localhost:8080/"
        },
        "id": "hzkgMgJfCoIs",
        "outputId": "535e2444-e007-48c3-fae3-63ecb0928664"
      },
      "outputs": [
        {
          "name": "stdout",
          "output_type": "stream",
          "text": [
            "[5, 2, 3, 4, 5]\n",
            "(5, 2, 3, 4, 5)\n"
          ]
        }
      ],
      "source": [
        "tupla1= (1,2,3,4,5)\n",
        "\n",
        "type(tupla1)\n",
        "\n",
        "cambio= list(tupla1)\n",
        "\n",
        "type(cambio)\n",
        "\n",
        "cambio[0] = 5\n",
        "\n",
        "print(cambio)\n",
        "\n",
        "tupla1 = tuple(cambio)\n",
        "\n",
        "type(tupla1)\n",
        "\n",
        "print(tupla1)"
      ]
    },
    {
      "cell_type": "code",
      "source": [
        "\"\"\"Escribe un programa que lea un número entero positivo n desde el usuario e imprima todos los divisores de n.\n",
        "\n",
        "Por ejemplo, si el usuario ingresa el número 12, el programa debe imprimir: 1, 2, 3, 4, 6, 12. \"\"\"\n",
        "\n",
        "numero= int(input('Ingresar un número entero: '))\n",
        "\n",
        "for i in range(1, numero + 1):\n",
        "  if numero%i == 0:\n",
        "    print(i)\n"
      ],
      "metadata": {
        "colab": {
          "base_uri": "https://localhost:8080/"
        },
        "id": "zlsW6-vQv-Xa",
        "outputId": "4e249ac6-e4b3-4eb4-a42b-38a723f6950a"
      },
      "execution_count": null,
      "outputs": [
        {
          "output_type": "stream",
          "name": "stdout",
          "text": [
            "Ingresar un número entero: 13\n",
            "1\n",
            "13\n"
          ]
        }
      ]
    },
    {
      "cell_type": "code",
      "source": [
        "\"\"\"\"Escribe un programa que lea una lista de números enteros separados por espacios desde el usuario y luego determine e imprima el número más grande en la lista.\n",
        "\n",
        "Por ejemplo, si el usuario ingresa la lista de números 1 5 10 2 7, el programa debe imprimir: El número más grande en la lista es: 10.\"\"\"\n",
        "\n"
      ],
      "metadata": {
        "id": "WFP4prG0yuCQ"
      },
      "execution_count": null,
      "outputs": []
    },
    {
      "cell_type": "markdown",
      "metadata": {
        "id": "2KYd5znGZ_te"
      },
      "source": [
        "# **ALGORITMO DE LUHN**"
      ]
    },
    {
      "cell_type": "code",
      "execution_count": null,
      "metadata": {
        "colab": {
          "base_uri": "https://localhost:8080/"
        },
        "id": "ziKn1wBy4sK7",
        "outputId": "75dcfc1c-5195-40a5-c038-81c0ee650a07"
      },
      "outputs": [
        {
          "name": "stdout",
          "output_type": "stream",
          "text": [
            "Ingrese una cantidad de numeros mayor a 1 un digito: 4539 3195 0343 6467\n",
            "Los números 4539319503436467: son validos\n",
            "None\n"
          ]
        }
      ],
      "source": [
        "abc= ('abcdefghijklmnopqrstuvwxyz')\n",
        "tdc= input('Ingrese una cantidad de numeros mayor a 1 un digito: ')\n",
        "\n",
        "def luhn_alg(x):\n",
        "  for iterar in abc:\n",
        "    if iterar in x:\n",
        "      print('Formato invalido, solo ingresar números')\n",
        "      x= input('Ingrese una cantidad de numeros mayor a 1 un digito: ')\n",
        "  if len(x) <= 1:\n",
        "    print('Formato incorrecto, ingresar más de 1 digito')\n",
        "    x= input('Ingrese una cantidad de numeros mayor a 1 un digito: ')\n",
        "  else:\n",
        "    x= int(str(x.replace(' ', '')))\n",
        "    numero= str(x)[::-1]\n",
        "    numero_invertido= []\n",
        "    for i in numero:\n",
        "      numero_invertido.append(i)\n",
        "    total=[]\n",
        "    for first in range(0, len(numero_invertido),2):\n",
        "      total.append(int(numero_invertido[first]))\n",
        "    for second in range(1, len(numero_invertido),2):\n",
        "      total1= int(numero_invertido[second])*2\n",
        "      if total1 >= 10:\n",
        "        total1= total1 - 9\n",
        "      total.append(total1)\n",
        "    luhn= 0\n",
        "    for suma in total:\n",
        "      luhn += int(suma)\n",
        "    if luhn%10 == 0:\n",
        "      print(f'La numeración {x} es valida')\n",
        "    else:\n",
        "      print(f'La numeración {x} es invalida') \n",
        "\n",
        "z= luhn_alg(tdc)\n",
        "\n",
        "print(z)\n",
        "    "
      ]
    },
    {
      "cell_type": "code",
      "execution_count": null,
      "metadata": {
        "colab": {
          "base_uri": "https://localhost:8080/"
        },
        "id": "MTjUzzDNaNks",
        "outputId": "b26a912b-8cf2-48d4-aa67-1f25a2f2fb4e"
      },
      "outputs": [
        {
          "name": "stdout",
          "output_type": "stream",
          "text": [
            "Ingrese una cantidad de numeros mayor a 1 un digito: 4539 3195 0343 6467\n",
            "True\n"
          ]
        }
      ],
      "source": [
        "tdc_gpt= input('Ingrese una cantidad de numeros mayor a 1 un digito: ')\n",
        "def validar_luhn(numero):\n",
        "    # Eliminar los espacios de la cadena y verificar si hay caracteres no numéricos\n",
        "    numero = numero.replace(' ', '')\n",
        "    if not numero.isdigit() or len(numero) <= 1:\n",
        "        return False\n",
        "\n",
        "    # Convertir el número a una lista de dígitos y duplicar cada segundo dígito\n",
        "    digitos = [int(d) for d in numero]\n",
        "    for i in range(len(digitos)-2, -1, -2):\n",
        "        digitos[i] = digitos[i] * 2\n",
        "        if digitos[i] > 9:\n",
        "            digitos[i] = digitos[i] - 9\n",
        "\n",
        "    # Sumar los dígitos y verificar si la suma es un múltiplo de 10\n",
        "    suma = sum(digitos)\n",
        "    return suma % 10 == 0\n",
        "\n",
        "result= validar_luhn(tdc_gpt)\n",
        "\n",
        "print(result)\n"
      ]
    },
    {
      "cell_type": "markdown",
      "metadata": {
        "id": "tGRrqxnfpq6k"
      },
      "source": [
        "# **ALGORITMO DE FIBONACCI**"
      ]
    },
    {
      "cell_type": "code",
      "execution_count": null,
      "metadata": {
        "colab": {
          "base_uri": "https://localhost:8080/"
        },
        "id": "QHFqrdm6pyz_",
        "outputId": "401642de-c092-485a-edc1-5b5148886922"
      },
      "outputs": [
        {
          "output_type": "stream",
          "name": "stdout",
          "text": [
            "Ingrese un número: 6\n",
            "0\n",
            "1\n",
            "1\n",
            "2\n",
            "3\n",
            "5\n"
          ]
        }
      ],
      "source": [
        "insert_n= int(input('Ingrese un número: '))\n",
        "x= 0\n",
        "y= 1\n",
        "for suma in range(insert_n):\n",
        "  print(x)\n",
        "  z= x + y\n",
        "  x= y\n",
        "  y= z\n",
        "  \n"
      ]
    },
    {
      "cell_type": "markdown",
      "source": [
        "Escribe un programa que lea una lista de números enteros separados por espacios desde el usuario y luego determine e imprima todos los números que aparecen más de una vez en la lista.\n",
        "\n",
        "Por ejemplo, si el usuario ingresa la lista de números 1 5 10 2 7 5 3 7, el programa debe imprimir: Los números que aparecen más de una vez en la lista son: 5, 7."
      ],
      "metadata": {
        "id": "DMJrjDPvqNCB"
      }
    },
    {
      "cell_type": "code",
      "source": [
        "import pandas as pd\n",
        "entrada= input('ingrese numeros separados por espacio: ')\n",
        "\n",
        "def repeat_num(x):\n",
        "  lista= []\n",
        "  for i in x:\n",
        "    if i != ' ':\n",
        "      lista.append(i)\n",
        "  print(lista)\n",
        "\n",
        "repeat_num(entrada)\n"
      ],
      "metadata": {
        "colab": {
          "base_uri": "https://localhost:8080/"
        },
        "id": "eWvy4uzhpbIB",
        "outputId": "076a1594-7306-4a68-d444-9086d89dc2e0"
      },
      "execution_count": null,
      "outputs": [
        {
          "output_type": "stream",
          "name": "stdout",
          "text": [
            "ingrese numeros separados por espacio: 1 5 10 2 7 5 3 7\n",
            "['1', '5', '1', '0', '2', '7', '5', '3', '7']\n"
          ]
        }
      ]
    },
    {
      "cell_type": "code",
      "source": [
        "entrada = input(\"Ingrese una lista de números enteros separados por espacios: \")\n",
        "\n",
        "# Convertir la entrada en una lista de enteros\n",
        "numeros = list(map(int, entrada.split()))\n",
        "\n",
        "# Crear un diccionario para almacenar el conteo de cada número\n",
        "conteo = {}\n",
        "for num in numeros:\n",
        "    if num in conteo:\n",
        "        conteo[num] += 1\n",
        "    else:\n",
        "        conteo[num] = 1\n",
        "\n",
        "# Imprimir los números que aparecen más de una vez en la lista\n",
        "repetidos = [num for num, cnt in conteo.items() if cnt > 1]\n",
        "if repetidos:\n",
        "    print(\"Los números que aparecen más de una vez en la lista son:\", \", \".join(map(str, repetidos)))\n",
        "else:\n",
        "    print(\"No hay números que aparezcan más de una vez en la lista.\")"
      ],
      "metadata": {
        "colab": {
          "base_uri": "https://localhost:8080/"
        },
        "id": "7unsAPKBlm7l",
        "outputId": "4556ca71-cb98-4d93-d4e9-3add7b173ea3"
      },
      "execution_count": null,
      "outputs": [
        {
          "output_type": "stream",
          "name": "stdout",
          "text": [
            "Ingrese una lista de números enteros separados por espacios: 1 23 4 52 2 1 3  23  56 56\n",
            "Los números que aparecen más de una vez en la lista son: 1, 23, 56\n"
          ]
        }
      ]
    },
    {
      "cell_type": "markdown",
      "source": [
        "Escribe un programa en Python que le pida al usuario que ingrese una cadena de texto y luego cuente cuántas veces aparece cada letra en la cadena. El programa debe ignorar espacios y caracteres especiales y debe mostrar los resultados en orden alfabético."
      ],
      "metadata": {
        "id": "HsJJ4Zyoj1wg"
      }
    },
    {
      "cell_type": "code",
      "source": [
        "cadena = input(\"Ingrese una cadena de texto: \")\n",
        "\n",
        "recuento_letras = {}\n",
        "\n",
        "for letra in cadena:\n",
        "    if not letra.isalpha():\n",
        "        continue\n",
        "    letra = letra.lower()\n",
        "    if letra in recuento_letras:\n",
        "        recuento_letras[letra] += 1\n",
        "    else:\n",
        "        recuento_letras[letra] = 1\n",
        "\n",
        "for letra in sorted(recuento_letras.keys()):\n",
        "    print(letra + \": \" + str(recuento_letras[letra]))"
      ],
      "metadata": {
        "colab": {
          "base_uri": "https://localhost:8080/"
        },
        "id": "zZRvrA10j3Li",
        "outputId": "b7ea8d85-abe0-42bd-d499-49d3fb26fab1"
      },
      "execution_count": null,
      "outputs": [
        {
          "output_type": "stream",
          "name": "stdout",
          "text": [
            "Ingrese una cadena de texto: hola como estas\n",
            "a: 2\n",
            "c: 1\n",
            "e: 1\n",
            "h: 1\n",
            "l: 1\n",
            "m: 1\n",
            "o: 3\n",
            "s: 2\n",
            "t: 1\n"
          ]
        }
      ]
    },
    {
      "cell_type": "markdown",
      "source": [
        "Escribe un programa en Python que le pida al usuario que ingrese dos listas de números del mismo tamaño. El programa debe luego crear una nueva lista que contenga los elementos de ambas listas multiplicados entre sí en la misma posición. Por ejemplo, si el usuario ingresa las listas [1, 2, 3] y [4, 5, 6], el programa debe crear la lista [4, 10, 18] (es decir, [1 * 4, 2 * 5, 3 * 6]).\n",
        "\n",
        "Puedes utilizar un bucle for para recorrer las listas y multiplicar los elementos en cada posición. Asegúrate de manejar casos en los que el usuario ingrese listas de diferente tamaño."
      ],
      "metadata": {
        "id": "zKDiklptSWWT"
      }
    },
    {
      "cell_type": "code",
      "source": [
        "import numpy as np\n",
        "cadena1= input('Ingrese una sucesión de numeros separados por espacios: ')\n",
        "cadena2= input('Ingrese otra sucesión de numeros separados por espacios del mismo tamaño que la anterior: ')\n",
        "\n",
        "#Se ingresan los input en un array y se convierten en valores númericos\n",
        "cadena1 = np.array(list(map(int, cadena1.split())))\n",
        "cadena2 = np.array(list(map(int, cadena2.split())))\n",
        "\n",
        "#Se comprueba que la longitud de ambos input coincidan para proceder con la operación\n",
        "if len(cadena2) !=  len(cadena1):\n",
        "  print(f'La longitud {cadena1} no conincide con {cadena2}')\n",
        "else:\n",
        "  result= cadena1*cadena2\n",
        "  print(result)\n"
      ],
      "metadata": {
        "colab": {
          "base_uri": "https://localhost:8080/"
        },
        "id": "r8YFtdXKSUle",
        "outputId": "1210fe17-78f0-48fc-9018-0bbad3912e40"
      },
      "execution_count": null,
      "outputs": [
        {
          "output_type": "stream",
          "name": "stdout",
          "text": [
            "Ingrese una sucesión de numeros separados por espacios: 10 20 1 2\n",
            "Ingrese otra sucesión de numeros separados por espacios del mismo tamaño que la anterior: 1 2 3 4\n",
            "[10 40  3  8]\n"
          ]
        }
      ]
    },
    {
      "cell_type": "code",
      "source": [
        "a= [25, 30, 33, 35, 40, 180]\n",
        "b= []\n",
        "\n",
        "b= [c+32 for c in a]\n",
        "\n",
        "print(b)"
      ],
      "metadata": {
        "colab": {
          "base_uri": "https://localhost:8080/"
        },
        "id": "R46akbC73DyR",
        "outputId": "ccbdbee1-bee3-47f7-9b62-71705b2ecada"
      },
      "execution_count": null,
      "outputs": [
        {
          "output_type": "stream",
          "name": "stdout",
          "text": [
            "[57, 62, 65, 67, 72, 212]\n"
          ]
        }
      ]
    },
    {
      "cell_type": "markdown",
      "source": [
        "Escribe un programa en Python que le pida al usuario que ingrese una cadena de texto y luego cuente cuántas veces aparece cada palabra en la cadena. El programa debe imprimir la lista de palabras únicas y la cantidad de veces que aparece cada una.\n",
        "\n",
        "Por ejemplo, si el usuario ingresa la cadena \"Hola mundo, hola Python. Hola todo el mundo.\", el programa debe imprimir algo similar a:"
      ],
      "metadata": {
        "id": "lKxeYt6gxymo"
      }
    },
    {
      "cell_type": "code",
      "source": [
        "import string\n",
        "\n",
        "texto= input('Ingrese un texto: ').lower()\n",
        "\n",
        "'''str.maketrans('', '', string.punctuation) crea un mapeo de una cadena vacía a\n",
        " otra vacía, y los signos de puntuación a Ninguna.\n",
        " El método translate aplica estos mapeos a la cadena dada, eliminando así los \n",
        " signos de puntuación. El siguiente ejemplo ilustra esto.\n",
        "'''\n",
        "\n",
        "texto= texto.translate(str.maketrans('','', string.punctuation))\n",
        "\n",
        "texto= texto.split()\n",
        "\n",
        "conteo= {}\n",
        "\n",
        "for palabra in texto:\n",
        "  if not palabra.isalpha():\n",
        "    continue\n",
        "  if palabra in conteo:\n",
        "    conteo[palabra] += 1\n",
        "  else:\n",
        "    conteo[palabra] = 1\n",
        "\n",
        "'''La cadena '<15' se utiliza para especificar el ancho de la columna de la \n",
        "palabra en 15 caracteres, y el símbolo \"<\" indica que la alineación de la \n",
        "columna es a la izquierda.'''\n",
        "\n",
        "print('{:<25} {}'.format('Palabra', 'Cantidad'))\n",
        "print('-'*50)\n",
        "\n",
        "'''Utilizando la función sorted() con el argumento key=conteo.get, que \n",
        "especifica que el ordenamiento se basa en los valores del diccionario, en este \n",
        "caso la cantidad de ocurrencias de cada palabra. El argumento reverse=True se \n",
        "usa para ordenar en forma descendente.'''\n",
        "\n",
        "for palabra in sorted(conteo, key=conteo.get, reverse=True):\n",
        "  print('{:<25} {}'.format(palabra, conteo[palabra]))"
      ],
      "metadata": {
        "colab": {
          "base_uri": "https://localhost:8080/"
        },
        "id": "04yyoyKBxx0b",
        "outputId": "02454989-25ec-4b03-82c6-a628db515ff1"
      },
      "execution_count": null,
      "outputs": [
        {
          "output_type": "stream",
          "name": "stdout",
          "text": [
            "Ingrese un texto: Escribe un programa en Python que le pida al usuario que ingrese una cadena de texto y luego cuente cuántas veces aparece cada palabra en la cadena. El programa debe imprimir la lista de palabras únicas y la cantidad de veces que aparece cada una.  Por ejemplo, si el usuario ingresa la cadena \"Hola mundo, hola Python. Hola todo el mundo.\", el programa debe imprimir algo similar a:\n",
            "Palabra                   Cantidad\n",
            "--------------------------------------------------\n",
            "la                        4\n",
            "el                        4\n",
            "programa                  3\n",
            "que                       3\n",
            "cadena                    3\n",
            "de                        3\n",
            "hola                      3\n",
            "en                        2\n",
            "python                    2\n",
            "usuario                   2\n",
            "una                       2\n",
            "y                         2\n",
            "veces                     2\n",
            "aparece                   2\n",
            "cada                      2\n",
            "debe                      2\n",
            "imprimir                  2\n",
            "mundo                     2\n",
            "escribe                   1\n",
            "un                        1\n",
            "le                        1\n",
            "pida                      1\n",
            "al                        1\n",
            "ingrese                   1\n",
            "texto                     1\n",
            "luego                     1\n",
            "cuente                    1\n",
            "cuántas                   1\n",
            "palabra                   1\n",
            "lista                     1\n",
            "palabras                  1\n",
            "únicas                    1\n",
            "cantidad                  1\n",
            "por                       1\n",
            "ejemplo                   1\n",
            "si                        1\n",
            "ingresa                   1\n",
            "todo                      1\n",
            "algo                      1\n",
            "similar                   1\n",
            "a                         1\n"
          ]
        }
      ]
    }
  ],
  "metadata": {
    "colab": {
      "provenance": [],
      "authorship_tag": "ABX9TyMTZgIQ67hffUhxur7475NK",
      "include_colab_link": true
    },
    "kernelspec": {
      "display_name": "Python 3",
      "name": "python3"
    },
    "language_info": {
      "name": "python"
    }
  },
  "nbformat": 4,
  "nbformat_minor": 0
}